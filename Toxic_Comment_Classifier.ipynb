{
  "nbformat": 4,
  "nbformat_minor": 0,
  "metadata": {
    "accelerator": "GPU",
    "colab": {
      "name": "Toxic Comment Classifier.ipynb",
      "provenance": [],
      "collapsed_sections": []
    },
    "kernelspec": {
      "display_name": "Python 3",
      "name": "python3"
    },
    "language_info": {
      "name": "python"
    }
  },
  "cells": [
    {
      "cell_type": "code",
      "metadata": {
        "id": "GeAHsYEAt1Og",
        "colab": {
          "base_uri": "https://localhost:8080/"
        },
        "outputId": "392de7dd-bebb-4c8d-fe9f-bda7d8548776"
      },
      "source": [
        "import numpy as np\n",
        "import pandas as pd\n",
        "import re\n",
        "import string\n",
        "from string import punctuation\n",
        "\n",
        "import nltk\n",
        "nltk.download('stopwords')\n",
        "nltk.download('wordnet')\n",
        "nltk.download('averaged_perceptron_tagger')\n",
        "from nltk.corpus import stopwords\n",
        "from nltk import tokenize\n",
        "from nltk.tokenize import TweetTokenizer   \n",
        "from nltk.corpus import wordnet\n",
        "from nltk.stem import WordNetLemmatizer\n",
        "\n",
        "\n",
        "from sklearn.model_selection import train_test_split\n",
        "\n",
        "from keras.preprocessing.text import Tokenizer\n",
        "from keras.preprocessing.sequence import pad_sequences\n",
        "\n",
        "from keras.models import Model\n",
        "from keras.layers import Dense, Embedding, Input\n",
        "from keras.layers import LSTM, Bidirectional, GlobalMaxPool1D, Dropout\n",
        "from keras.preprocessing import text, sequence"
      ],
      "execution_count": null,
      "outputs": [
        {
          "output_type": "stream",
          "text": [
            "[nltk_data] Downloading package stopwords to /root/nltk_data...\n",
            "[nltk_data]   Unzipping corpora/stopwords.zip.\n",
            "[nltk_data] Downloading package wordnet to /root/nltk_data...\n",
            "[nltk_data]   Unzipping corpora/wordnet.zip.\n",
            "[nltk_data] Downloading package averaged_perceptron_tagger to\n",
            "[nltk_data]     /root/nltk_data...\n",
            "[nltk_data]   Unzipping taggers/averaged_perceptron_tagger.zip.\n",
            "[nltk_data] Downloading package stopwords to /root/nltk_data...\n",
            "[nltk_data]   Package stopwords is already up-to-date!\n",
            "[nltk_data] Downloading package wordnet to /root/nltk_data...\n",
            "[nltk_data]   Package wordnet is already up-to-date!\n",
            "[nltk_data] Downloading package averaged_perceptron_tagger to\n",
            "[nltk_data]     /root/nltk_data...\n",
            "[nltk_data]   Package averaged_perceptron_tagger is already up-to-\n",
            "[nltk_data]       date!\n"
          ],
          "name": "stdout"
        }
      ]
    },
    {
      "cell_type": "markdown",
      "metadata": {
        "id": "FSjjsH9NG2yd"
      },
      "source": [
        "##**Reading Dataset**"
      ]
    },
    {
      "cell_type": "code",
      "metadata": {
        "colab": {
          "base_uri": "https://localhost:8080/"
        },
        "id": "WftdCXbDGaGk",
        "outputId": "288748db-4f27-4835-ae1b-564611954f0d"
      },
      "source": [
        "train_df = pd.read_csv(\"train.csv\")\n",
        "test_df = pd.read_csv(\"test.csv\")\n",
        "print(train_df.shape)\n",
        "print(test_df.shape)"
      ],
      "execution_count": null,
      "outputs": [
        {
          "output_type": "stream",
          "text": [
            "(159571, 8)\n",
            "(153164, 2)\n"
          ],
          "name": "stdout"
        }
      ]
    },
    {
      "cell_type": "code",
      "metadata": {
        "colab": {
          "base_uri": "https://localhost:8080/",
          "height": 195
        },
        "id": "f44WLXiQRJCI",
        "outputId": "235a31ae-7b74-49b0-f6c2-a82f3a66c59e"
      },
      "source": [
        "train_df.head()"
      ],
      "execution_count": null,
      "outputs": [
        {
          "output_type": "execute_result",
          "data": {
            "text/html": [
              "<div>\n",
              "<style scoped>\n",
              "    .dataframe tbody tr th:only-of-type {\n",
              "        vertical-align: middle;\n",
              "    }\n",
              "\n",
              "    .dataframe tbody tr th {\n",
              "        vertical-align: top;\n",
              "    }\n",
              "\n",
              "    .dataframe thead th {\n",
              "        text-align: right;\n",
              "    }\n",
              "</style>\n",
              "<table border=\"1\" class=\"dataframe\">\n",
              "  <thead>\n",
              "    <tr style=\"text-align: right;\">\n",
              "      <th></th>\n",
              "      <th>id</th>\n",
              "      <th>comment_text</th>\n",
              "      <th>toxic</th>\n",
              "      <th>severe_toxic</th>\n",
              "      <th>obscene</th>\n",
              "      <th>threat</th>\n",
              "      <th>insult</th>\n",
              "      <th>identity_hate</th>\n",
              "    </tr>\n",
              "  </thead>\n",
              "  <tbody>\n",
              "    <tr>\n",
              "      <th>0</th>\n",
              "      <td>0000997932d777bf</td>\n",
              "      <td>Explanation\\nWhy the edits made under my usern...</td>\n",
              "      <td>0</td>\n",
              "      <td>0</td>\n",
              "      <td>0</td>\n",
              "      <td>0</td>\n",
              "      <td>0</td>\n",
              "      <td>0</td>\n",
              "    </tr>\n",
              "    <tr>\n",
              "      <th>1</th>\n",
              "      <td>000103f0d9cfb60f</td>\n",
              "      <td>D'aww! He matches this background colour I'm s...</td>\n",
              "      <td>0</td>\n",
              "      <td>0</td>\n",
              "      <td>0</td>\n",
              "      <td>0</td>\n",
              "      <td>0</td>\n",
              "      <td>0</td>\n",
              "    </tr>\n",
              "    <tr>\n",
              "      <th>2</th>\n",
              "      <td>000113f07ec002fd</td>\n",
              "      <td>Hey man, I'm really not trying to edit war. It...</td>\n",
              "      <td>0</td>\n",
              "      <td>0</td>\n",
              "      <td>0</td>\n",
              "      <td>0</td>\n",
              "      <td>0</td>\n",
              "      <td>0</td>\n",
              "    </tr>\n",
              "    <tr>\n",
              "      <th>3</th>\n",
              "      <td>0001b41b1c6bb37e</td>\n",
              "      <td>\"\\nMore\\nI can't make any real suggestions on ...</td>\n",
              "      <td>0</td>\n",
              "      <td>0</td>\n",
              "      <td>0</td>\n",
              "      <td>0</td>\n",
              "      <td>0</td>\n",
              "      <td>0</td>\n",
              "    </tr>\n",
              "    <tr>\n",
              "      <th>4</th>\n",
              "      <td>0001d958c54c6e35</td>\n",
              "      <td>You, sir, are my hero. Any chance you remember...</td>\n",
              "      <td>0</td>\n",
              "      <td>0</td>\n",
              "      <td>0</td>\n",
              "      <td>0</td>\n",
              "      <td>0</td>\n",
              "      <td>0</td>\n",
              "    </tr>\n",
              "  </tbody>\n",
              "</table>\n",
              "</div>"
            ],
            "text/plain": [
              "                 id  ... identity_hate\n",
              "0  0000997932d777bf  ...             0\n",
              "1  000103f0d9cfb60f  ...             0\n",
              "2  000113f07ec002fd  ...             0\n",
              "3  0001b41b1c6bb37e  ...             0\n",
              "4  0001d958c54c6e35  ...             0\n",
              "\n",
              "[5 rows x 8 columns]"
            ]
          },
          "metadata": {
            "tags": []
          },
          "execution_count": 7
        }
      ]
    },
    {
      "cell_type": "code",
      "metadata": {
        "colab": {
          "base_uri": "https://localhost:8080/",
          "height": 195
        },
        "id": "y2ulynTfgcDo",
        "outputId": "a8c90c08-4268-4476-d464-7fe708bc5f61"
      },
      "source": [
        "test_df.head()"
      ],
      "execution_count": null,
      "outputs": [
        {
          "output_type": "execute_result",
          "data": {
            "text/html": [
              "<div>\n",
              "<style scoped>\n",
              "    .dataframe tbody tr th:only-of-type {\n",
              "        vertical-align: middle;\n",
              "    }\n",
              "\n",
              "    .dataframe tbody tr th {\n",
              "        vertical-align: top;\n",
              "    }\n",
              "\n",
              "    .dataframe thead th {\n",
              "        text-align: right;\n",
              "    }\n",
              "</style>\n",
              "<table border=\"1\" class=\"dataframe\">\n",
              "  <thead>\n",
              "    <tr style=\"text-align: right;\">\n",
              "      <th></th>\n",
              "      <th>id</th>\n",
              "      <th>comment_text</th>\n",
              "    </tr>\n",
              "  </thead>\n",
              "  <tbody>\n",
              "    <tr>\n",
              "      <th>0</th>\n",
              "      <td>00001cee341fdb12</td>\n",
              "      <td>Yo bitch Ja Rule is more succesful then you'll...</td>\n",
              "    </tr>\n",
              "    <tr>\n",
              "      <th>1</th>\n",
              "      <td>0000247867823ef7</td>\n",
              "      <td>== From RfC == \\n\\n The title is fine as it is...</td>\n",
              "    </tr>\n",
              "    <tr>\n",
              "      <th>2</th>\n",
              "      <td>00013b17ad220c46</td>\n",
              "      <td>\" \\n\\n == Sources == \\n\\n * Zawe Ashton on Lap...</td>\n",
              "    </tr>\n",
              "    <tr>\n",
              "      <th>3</th>\n",
              "      <td>00017563c3f7919a</td>\n",
              "      <td>:If you have a look back at the source, the in...</td>\n",
              "    </tr>\n",
              "    <tr>\n",
              "      <th>4</th>\n",
              "      <td>00017695ad8997eb</td>\n",
              "      <td>I don't anonymously edit articles at all.</td>\n",
              "    </tr>\n",
              "  </tbody>\n",
              "</table>\n",
              "</div>"
            ],
            "text/plain": [
              "                 id                                       comment_text\n",
              "0  00001cee341fdb12  Yo bitch Ja Rule is more succesful then you'll...\n",
              "1  0000247867823ef7  == From RfC == \\n\\n The title is fine as it is...\n",
              "2  00013b17ad220c46  \" \\n\\n == Sources == \\n\\n * Zawe Ashton on Lap...\n",
              "3  00017563c3f7919a  :If you have a look back at the source, the in...\n",
              "4  00017695ad8997eb          I don't anonymously edit articles at all."
            ]
          },
          "metadata": {
            "tags": []
          },
          "execution_count": 8
        }
      ]
    },
    {
      "cell_type": "markdown",
      "metadata": {
        "id": "BDOEWrOqYD1U"
      },
      "source": [
        "##**Data Visualization**"
      ]
    },
    {
      "cell_type": "code",
      "metadata": {
        "colab": {
          "base_uri": "https://localhost:8080/",
          "height": 410
        },
        "id": "3jw4fKxOUTAj",
        "outputId": "92599960-9de2-43a3-a9db-7c3b33166b45"
      },
      "source": [
        "%matplotlib inline\n",
        "import matplotlib.pyplot as plt\n",
        "import seaborn as sns\n",
        "from PIL import Image\n",
        "\n",
        "x=train_df.iloc[:,2:].sum()\n",
        "\n",
        "#plot\n",
        "plt.figure(figsize=(8,5))\n",
        "ax= sns.barplot(x.index, x.values, alpha=0.8)\n",
        "plt.title(\"# per class\")\n",
        "plt.ylabel('# of Occurrences', fontsize=12)\n",
        "plt.xlabel('Type ', fontsize=12)\n",
        "\n",
        "#adding the text labels\n",
        "rects = ax.patches\n",
        "labels = x.values\n",
        "for rect, label in zip(rects, labels):\n",
        "    height = rect.get_height()\n",
        "    ax.text(rect.get_x() + rect.get_width()/2, height + 5,\n",
        "            label, ha='center', va='bottom')\n",
        "plt.show()"
      ],
      "execution_count": null,
      "outputs": [
        {
          "output_type": "stream",
          "text": [
            "/usr/local/lib/python3.7/dist-packages/seaborn/_decorators.py:43: FutureWarning: Pass the following variables as keyword args: x, y. From version 0.12, the only valid positional argument will be `data`, and passing other arguments without an explicit keyword will result in an error or misinterpretation.\n",
            "  FutureWarning\n"
          ],
          "name": "stderr"
        },
        {
          "output_type": "display_data",
          "data": {
            "image/png": "[encoded data removed]",
            "text/plain": [
              "<Figure size 576x360 with 1 Axes>"
            ]
          },
          "metadata": {
            "tags": [],
            "needs_background": "light"
          }
        }
      ]
    },
    {
      "cell_type": "code",
      "metadata": {
        "colab": {
          "base_uri": "https://localhost:8080/",
          "height": 408
        },
        "id": "LxGFlHgyYwQW",
        "outputId": "8f4a3724-9d71-4d84-f567-14bd62b92222"
      },
      "source": [
        "rowsums=train_df.iloc[:,2:].sum(axis=1)\n",
        "x=rowsums.value_counts()\n",
        "color = sns.color_palette()\n",
        "\n",
        "#plot\n",
        "plt.figure(figsize=(8,5))\n",
        "ax = sns.barplot(x.index, x.values, alpha=0.8,color=color[2])\n",
        "plt.title(\"Multiple tags per comment\")\n",
        "plt.ylabel('# of Occurrences', fontsize=12)\n",
        "plt.xlabel('# of tags ', fontsize=12)\n",
        "\n",
        "#adding the text labels\n",
        "rects = ax.patches\n",
        "labels = x.values\n",
        "for rect, label in zip(rects, labels):\n",
        "    height = rect.get_height()\n",
        "    ax.text(rect.get_x() + rect.get_width()/2, height + 5,\n",
        "            label, ha='center', va='bottom')\n",
        "\n",
        "plt.show()"
      ],
      "execution_count": null,
      "outputs": [
        {
          "output_type": "stream",
          "text": [
            "/usr/local/lib/python3.7/dist-packages/seaborn/_decorators.py:43: FutureWarning: Pass the following variables as keyword args: x, y. From version 0.12, the only valid positional argument will be `data`, and passing other arguments without an explicit keyword will result in an error or misinterpretation.\n",
            "  FutureWarning\n"
          ],
          "name": "stderr"
        },
        {
          "output_type": "display_data",
          "data": {
            "image/png": "[encoded data removed]",
            "text/plain": [
              "<Figure size 576x360 with 1 Axes>"
            ]
          },
          "metadata": {
            "tags": [],
            "needs_background": "light"
          }
        }
      ]
    },
    {
      "cell_type": "code",
      "metadata": {
        "id": "__ad0DexH2r_"
      },
      "source": [
        "list_classes = [\"toxic\", \"severe_toxic\", \"obscene\", \"threat\", \"insult\", \"identity_hate\"]\n",
        "y = train_df[list_classes].values"
      ],
      "execution_count": null,
      "outputs": []
    },
    {
      "cell_type": "markdown",
      "metadata": {
        "id": "Qr2Qci0Bbon8"
      },
      "source": [
        "##**Text Preprocessing**"
      ]
    },
    {
      "cell_type": "code",
      "metadata": {
        "id": "uQpfgxK6OhaH"
      },
      "source": [
        "def clean_text(text):\n",
        "    lem = WordNetLemmatizer()\n",
        "    tokenizer=TweetTokenizer()\n",
        "    \n",
        "    ## Remove puncuation\n",
        "    text = text.translate(string.punctuation)\n",
        "    \n",
        "    ## Convert words to lower case and split them\n",
        "    text = text.lower().split()\n",
        "    \n",
        "    ## Remove stop words\n",
        "    stops = set(stopwords.words(\"english\"))\n",
        "    text = [w for w in text if not w in stops and len(w) >= 3]\n",
        "    text = \" \".join(text)\n",
        "\n",
        "    text = re.sub('\\d{1,3}\\.\\d{1,3}\\.\\d{1,3}\\.\\d{1,3}', '', text)\n",
        "    text = re.sub(\"\\W+\",\" \",text)\n",
        "    text = re.sub(\"  \",\" \",text)\n",
        "\n",
        "    words = tokenizer.tokenize(text)\n",
        "\n",
        "    #Lemmatization\n",
        "    words=[lem.lemmatize(word,\"v\") for word in words]\n",
        "    clean_comment = \" \".join(words)\n",
        "\n",
        "    return clean_comment"
      ],
      "execution_count": null,
      "outputs": []
    },
    {
      "cell_type": "code",
      "metadata": {
        "id": "vygyFcmDdwrQ"
      },
      "source": [
        "train_sentence = train_df['comment_text'].map(lambda x: clean_text(x))\n",
        "test_sentence = test_df['comment_text'].map(lambda x: clean_text(x))"
      ],
      "execution_count": null,
      "outputs": []
    },
    {
      "cell_type": "code",
      "metadata": {
        "colab": {
          "base_uri": "https://localhost:8080/"
        },
        "id": "xwMjgPMdes6w",
        "outputId": "4cf1cc45-b360-402d-9113-617ee65f139d"
      },
      "source": [
        "m = 0\n",
        "print(\"Before preprocessing\\n\",train_df['comment_text'][m],\"\\n\\n\")\n",
        "print(\"After preprocessing\\n\",train_sentence[m])"
      ],
      "execution_count": null,
      "outputs": [
        {
          "output_type": "stream",
          "text": [
            "Before preprocessing\n",
            " Explanation\n",
            "Why the edits made under my username Hardcore Metallica Fan were reverted? They weren't vandalisms, just closure on some GAs after I voted at New York Dolls FAC. And please don't remove the template from the talk page since I'm retired now.89.205.38.27 \n",
            "\n",
            "\n",
            "After preprocessing\n",
            " explanation why edit make username hardcore metallica fan revert vandalisms closure gas vote new york dolls fac please remove template talk page since i m retire now\n"
          ],
          "name": "stdout"
        }
      ]
    },
    {
      "cell_type": "markdown",
      "metadata": {
        "id": "nYFAaNPAiQLg"
      },
      "source": [
        "## **Tokenization and Padding**"
      ]
    },
    {
      "cell_type": "code",
      "metadata": {
        "id": "Z4ewAnDJZGYM"
      },
      "source": [
        "max_features = 20000 # how many unique words to use\n",
        "tokenizer = Tokenizer(num_words=max_features)\n",
        "tokenizer.fit_on_texts(list(train_sentence))\n",
        "tokenized_train = tokenizer.texts_to_sequences(train_sentence)\n",
        "tokenized_test = tokenizer.texts_to_sequences(test_sentence)"
      ],
      "execution_count": null,
      "outputs": []
    },
    {
      "cell_type": "code",
      "metadata": {
        "id": "KBR0NG_N_gcu",
        "colab": {
          "base_uri": "https://localhost:8080/",
          "height": 353
        },
        "outputId": "3ac01de7-49ac-4a49-8e62-51e140272985"
      },
      "source": [
        "word_per_comment = [len(comment) for comment in tokenized_train]\n",
        "plt.figure(figsize=(8,5))\n",
        "plt.title(\"# words per comment\")\n",
        "plt.ylabel('# of comments', fontsize=12)\n",
        "plt.xlabel('# of words ', fontsize=12)\n",
        "plt.hist(word_per_comment, bins = np.arange(0,500,10))\n",
        "plt.show()"
      ],
      "execution_count": null,
      "outputs": [
        {
          "output_type": "display_data",
          "data": {
            "image/png": "[encoded data removed]",
            "text/plain": [
              "<Figure size 576x360 with 1 Axes>"
            ]
          },
          "metadata": {
            "tags": [],
            "needs_background": "light"
          }
        }
      ]
    },
    {
      "cell_type": "code",
      "metadata": {
        "id": "gn4uxMrmjDRz"
      },
      "source": [
        "maxlen = 200 #max number of words in a comment\n",
        "X_train = pad_sequences(tokenized_train, maxlen=maxlen)\n",
        "X_test = pad_sequences(tokenized_test, maxlen=maxlen)"
      ],
      "execution_count": null,
      "outputs": []
    },
    {
      "cell_type": "markdown",
      "metadata": {
        "id": "i-2oXlOlExli"
      },
      "source": [
        "##**Building Model**"
      ]
    },
    {
      "cell_type": "code",
      "metadata": {
        "id": "UuId62v7Dn0b"
      },
      "source": [
        "inp = Input(shape=(maxlen, ))\n",
        "embed_size = 128\n",
        "x = Embedding(max_features, embed_size)(inp)\n",
        "x = LSTM(60, return_sequences=True,name='lstm_layer')(x)\n",
        "x = GlobalMaxPool1D()(x)\n",
        "x = Dropout(0.1)(x)\n",
        "x = Dense(50, activation=\"relu\")(x)\n",
        "x = Dropout(0.1)(x)\n",
        "x = Dense(6, activation=\"sigmoid\")(x)\n",
        "model = Model(inputs=inp, outputs=x)\n",
        "model.compile(loss='binary_crossentropy', \n",
        "              optimizer='adam', \n",
        "              metrics=['accuracy'])"
      ],
      "execution_count": null,
      "outputs": []
    },
    {
      "cell_type": "code",
      "metadata": {
        "id": "cl-LN6q6IbxZ",
        "colab": {
          "base_uri": "https://localhost:8080/"
        },
        "outputId": "b8262a65-f0c5-436c-8285-134cb0112487"
      },
      "source": [
        "model.summary()"
      ],
      "execution_count": null,
      "outputs": [
        {
          "output_type": "stream",
          "text": [
            "Model: \"model\"\n",
            "_________________________________________________________________\n",
            "Layer (type)                 Output Shape              Param #   \n",
            "=================================================================\n",
            "input_1 (InputLayer)         [(None, 200)]             0         \n",
            "_________________________________________________________________\n",
            "embedding (Embedding)        (None, 200, 128)          2560000   \n",
            "_________________________________________________________________\n",
            "lstm_layer (LSTM)            (None, 200, 60)           45360     \n",
            "_________________________________________________________________\n",
            "global_max_pooling1d (Global (None, 60)                0         \n",
            "_________________________________________________________________\n",
            "dropout (Dropout)            (None, 60)                0         \n",
            "_________________________________________________________________\n",
            "dense (Dense)                (None, 50)                3050      \n",
            "_________________________________________________________________\n",
            "dropout_1 (Dropout)          (None, 50)                0         \n",
            "_________________________________________________________________\n",
            "dense_1 (Dense)              (None, 6)                 306       \n",
            "=================================================================\n",
            "Total params: 2,608,716\n",
            "Trainable params: 2,608,716\n",
            "Non-trainable params: 0\n",
            "_________________________________________________________________\n"
          ],
          "name": "stdout"
        }
      ]
    },
    {
      "cell_type": "markdown",
      "metadata": {
        "id": "xuvVED9wKbcY"
      },
      "source": [
        "##**Training Model**"
      ]
    },
    {
      "cell_type": "code",
      "metadata": {
        "id": "7-M5CYaQIfEy",
        "colab": {
          "base_uri": "https://localhost:8080/"
        },
        "outputId": "404f1b6a-d02c-47c8-f253-acbd4caaed0c"
      },
      "source": [
        "batch_size = 32\n",
        "epochs = 2\n",
        "model.fit(X_train,y, batch_size=batch_size, epochs=epochs, validation_split=0.1)"
      ],
      "execution_count": null,
      "outputs": [
        {
          "output_type": "stream",
          "text": [
            "Epoch 1/2\n",
            "4488/4488 [==============================] - 166s 37ms/step - loss: 0.0978 - accuracy: 0.8645 - val_loss: 0.0526 - val_accuracy: 0.9940\n",
            "Epoch 2/2\n",
            "4488/4488 [==============================] - 165s 37ms/step - loss: 0.0461 - accuracy: 0.9868 - val_loss: 0.0515 - val_accuracy: 0.9937\n"
          ],
          "name": "stdout"
        },
        {
          "output_type": "execute_result",
          "data": {
            "text/plain": [
              "<tensorflow.python.keras.callbacks.History at 0x7f7fd009ffd0>"
            ]
          },
          "metadata": {
            "tags": []
          },
          "execution_count": 26
        }
      ]
    },
    {
      "cell_type": "markdown",
      "metadata": {
        "id": "rtVvRZxxjhiI"
      },
      "source": [
        "##**Predicting Test Dataset**"
      ]
    },
    {
      "cell_type": "code",
      "metadata": {
        "id": "I08hkWoPKpIr"
      },
      "source": [
        "submission = pd.read_csv('sample_submission.csv')\n",
        "y_pred = model.predict(X_test, batch_size=1024)\n",
        "submission[[\"toxic\", \"severe_toxic\", \"obscene\", \"threat\", \"insult\", \"identity_hate\"]] = y_pred\n",
        "submission.to_csv('predictions.csv', index=False)"
      ],
      "execution_count": null,
      "outputs": []
    },
    {
      "cell_type": "code",
      "metadata": {
        "colab": {
          "base_uri": "https://localhost:8080/",
          "height": 195
        },
        "id": "WzK6VIL2YfQ3",
        "outputId": "ce870155-a68c-4b31-ce26-1310d9563f89"
      },
      "source": [
        "prediction = pd.read_csv('predictions.csv')\n",
        "prediction.head()"
      ],
      "execution_count": null,
      "outputs": [
        {
          "output_type": "execute_result",
          "data": {
            "text/html": [
              "<div>\n",
              "<style scoped>\n",
              "    .dataframe tbody tr th:only-of-type {\n",
              "        vertical-align: middle;\n",
              "    }\n",
              "\n",
              "    .dataframe tbody tr th {\n",
              "        vertical-align: top;\n",
              "    }\n",
              "\n",
              "    .dataframe thead th {\n",
              "        text-align: right;\n",
              "    }\n",
              "</style>\n",
              "<table border=\"1\" class=\"dataframe\">\n",
              "  <thead>\n",
              "    <tr style=\"text-align: right;\">\n",
              "      <th></th>\n",
              "      <th>id</th>\n",
              "      <th>toxic</th>\n",
              "      <th>severe_toxic</th>\n",
              "      <th>obscene</th>\n",
              "      <th>threat</th>\n",
              "      <th>insult</th>\n",
              "      <th>identity_hate</th>\n",
              "    </tr>\n",
              "  </thead>\n",
              "  <tbody>\n",
              "    <tr>\n",
              "      <th>0</th>\n",
              "      <td>00001cee341fdb12</td>\n",
              "      <td>0.996535</td>\n",
              "      <td>3.779812e-01</td>\n",
              "      <td>0.943804</td>\n",
              "      <td>8.593311e-02</td>\n",
              "      <td>0.843445</td>\n",
              "      <td>0.251248</td>\n",
              "    </tr>\n",
              "    <tr>\n",
              "      <th>1</th>\n",
              "      <td>0000247867823ef7</td>\n",
              "      <td>0.000563</td>\n",
              "      <td>4.090743e-07</td>\n",
              "      <td>0.000105</td>\n",
              "      <td>2.770272e-06</td>\n",
              "      <td>0.000056</td>\n",
              "      <td>0.000007</td>\n",
              "    </tr>\n",
              "    <tr>\n",
              "      <th>2</th>\n",
              "      <td>00013b17ad220c46</td>\n",
              "      <td>0.010103</td>\n",
              "      <td>2.362183e-05</td>\n",
              "      <td>0.001777</td>\n",
              "      <td>1.880097e-04</td>\n",
              "      <td>0.001609</td>\n",
              "      <td>0.000227</td>\n",
              "    </tr>\n",
              "    <tr>\n",
              "      <th>3</th>\n",
              "      <td>00017563c3f7919a</td>\n",
              "      <td>0.000219</td>\n",
              "      <td>7.560371e-08</td>\n",
              "      <td>0.000048</td>\n",
              "      <td>3.233533e-07</td>\n",
              "      <td>0.000020</td>\n",
              "      <td>0.000002</td>\n",
              "    </tr>\n",
              "    <tr>\n",
              "      <th>4</th>\n",
              "      <td>00017695ad8997eb</td>\n",
              "      <td>0.001622</td>\n",
              "      <td>1.821094e-06</td>\n",
              "      <td>0.000322</td>\n",
              "      <td>1.208726e-05</td>\n",
              "      <td>0.000176</td>\n",
              "      <td>0.000025</td>\n",
              "    </tr>\n",
              "  </tbody>\n",
              "</table>\n",
              "</div>"
            ],
            "text/plain": [
              "                 id     toxic  ...    insult  identity_hate\n",
              "0  00001cee341fdb12  0.996535  ...  0.843445       0.251248\n",
              "1  0000247867823ef7  0.000563  ...  0.000056       0.000007\n",
              "2  00013b17ad220c46  0.010103  ...  0.001609       0.000227\n",
              "3  00017563c3f7919a  0.000219  ...  0.000020       0.000002\n",
              "4  00017695ad8997eb  0.001622  ...  0.000176       0.000025\n",
              "\n",
              "[5 rows x 7 columns]"
            ]
          },
          "metadata": {
            "tags": []
          },
          "execution_count": 29
        }
      ]
    },
    {
      "cell_type": "code",
      "metadata": {
        "colab": {
          "base_uri": "https://localhost:8080/",
          "height": 17
        },
        "id": "HJoP37k7XrwC",
        "outputId": "18bab6d0-f505-41c4-912d-c10337f73fa6"
      },
      "source": [
        "from google.colab import files\n",
        "files.download('predictions.csv')"
      ],
      "execution_count": null,
      "outputs": [
        {
          "output_type": "display_data",
          "data": {
            "application/javascript": [
              "\n",
              "    async function download(id, filename, size) {\n",
              "      if (!google.colab.kernel.accessAllowed) {\n",
              "        return;\n",
              "      }\n",
              "      const div = document.createElement('div');\n",
              "      const label = document.createElement('label');\n",
              "      label.textContent = `Downloading \"${filename}\": `;\n",
              "      div.appendChild(label);\n",
              "      const progress = document.createElement('progress');\n",
              "      progress.max = size;\n",
              "      div.appendChild(progress);\n",
              "      document.body.appendChild(div);\n",
              "\n",
              "      const buffers = [];\n",
              "      let downloaded = 0;\n",
              "\n",
              "      const channel = await google.colab.kernel.comms.open(id);\n",
              "      // Send a message to notify the kernel that we're ready.\n",
              "      channel.send({})\n",
              "\n",
              "      for await (const message of channel.messages) {\n",
              "        // Send a message to notify the kernel that we're ready.\n",
              "        channel.send({})\n",
              "        if (message.buffers) {\n",
              "          for (const buffer of message.buffers) {\n",
              "            buffers.push(buffer);\n",
              "            downloaded += buffer.byteLength;\n",
              "            progress.value = downloaded;\n",
              "          }\n",
              "        }\n",
              "      }\n",
              "      const blob = new Blob(buffers, {type: 'application/binary'});\n",
              "      const a = document.createElement('a');\n",
              "      a.href = window.URL.createObjectURL(blob);\n",
              "      a.download = filename;\n",
              "      div.appendChild(a);\n",
              "      a.click();\n",
              "      div.remove();\n",
              "    }\n",
              "  "
            ],
            "text/plain": [
              "<IPython.core.display.Javascript object>"
            ]
          },
          "metadata": {
            "tags": []
          }
        },
        {
          "output_type": "display_data",
          "data": {
            "application/javascript": [
              "download(\"download_3f47fca5-4849-4dc2-b78f-4d1003c008d9\", \"predictions.csv\", 22437108)"
            ],
            "text/plain": [
              "<IPython.core.display.Javascript object>"
            ]
          },
          "metadata": {
            "tags": []
          }
        }
      ]
    },
    {
      "cell_type": "markdown",
      "metadata": {
        "id": "5wa5PH91Ye2U"
      },
      "source": [
        "![test_accuracy.jpg](data:image/jpeg;base64,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)"
      ]
    },
    {
      "cell_type": "markdown",
      "metadata": {
        "id": "H85zH4kDjr0_"
      },
      "source": [
        "## **Input Comment Prediction**"
      ]
    },
    {
      "cell_type": "code",
      "metadata": {
        "id": "J2VgAAonh3dI",
        "colab": {
          "base_uri": "https://localhost:8080/"
        },
        "outputId": "7fa23b70-e948-4989-fc88-b26cc7380309"
      },
      "source": [
        "user_comment = input(\"Write your comment: \")\n",
        "clean_comment = clean_text(user_comment)\n",
        "tokenized_comment = tokenizer.texts_to_sequences([clean_comment])\n",
        "user_test_comment = pad_sequences(tokenized_comment, maxlen=maxlen)\n",
        "user_comment_pred = model.predict(user_test_comment, batch_size=1)\n",
        "\n",
        "output_df = pd.DataFrame({'Category' : list_classes, 'Predicted Value' : user_comment_pred[0]})\n",
        "print(\"\\n\",output_df.to_string(index=False))    "
      ],
      "execution_count": null,
      "outputs": [
        {
          "output_type": "stream",
          "text": [
            "Write your comment: I hope you die in hell you stupid\n",
            "\n",
            "       Category  Predicted Value\n",
            "         toxic         0.988716\n",
            "  severe_toxic         0.117590\n",
            "       obscene         0.722164\n",
            "        threat         0.050195\n",
            "        insult         0.821286\n",
            " identity_hate         0.199138\n"
          ],
          "name": "stdout"
        }
      ]
    }
  ]
}